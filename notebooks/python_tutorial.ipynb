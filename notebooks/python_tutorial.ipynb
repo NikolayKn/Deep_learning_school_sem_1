{
 "cells": [
  {
   "cell_type": "code",
   "execution_count": 15,
   "id": "2e22ca36",
   "metadata": {},
   "outputs": [],
   "source": [
    "def almost_double_factorial(n):\n",
    "    # YOUR CODE\n",
    "    if n <= 0:\n",
    "        return 1\n",
    "    else:\n",
    "        mul = 1\n",
    "        for i in range(1,n,2):\n",
    "            mul *= i\n",
    "        return mul"
   ]
  },
  {
   "cell_type": "code",
   "execution_count": 21,
   "id": "cca8c2e6",
   "metadata": {},
   "outputs": [
    {
     "data": {
      "text/plain": [
       "15"
      ]
     },
     "execution_count": 21,
     "metadata": {},
     "output_type": "execute_result"
    }
   ],
   "source": [
    "almost_double_factorial(6)"
   ]
  },
  {
   "cell_type": "code",
   "execution_count": 42,
   "id": "74d2b21e",
   "metadata": {},
   "outputs": [
    {
     "data": {
      "text/plain": [
       "[-5, 2, -3, 4, -1]"
      ]
     },
     "execution_count": 42,
     "metadata": {},
     "output_type": "execute_result"
    }
   ],
   "source": [
    "x = [1, 2, 3, 4, 5]\n",
    "x[-1::-2] = [-1, -3, -5]\n",
    "x"
   ]
  },
  {
   "cell_type": "code",
   "execution_count": 28,
   "id": "e17b410a",
   "metadata": {},
   "outputs": [
    {
     "data": {
      "text/plain": [
       "[-5, 2, -3, 4, -1]"
      ]
     },
     "execution_count": 28,
     "metadata": {},
     "output_type": "execute_result"
    }
   ],
   "source": [
    "[-5, 2, -3, 4, -1]"
   ]
  },
  {
   "cell_type": "code",
   "execution_count": 58,
   "id": "3a02556c",
   "metadata": {},
   "outputs": [],
   "source": [
    "def cumsum_and_erase(A, erase=10):\n",
    "    \n",
    "    B = [0]\n",
    "    summ = 0\n",
    "    \n",
    "    for num in A:\n",
    "        summ += num\n",
    "        if summ != erase:\n",
    "            B.append(summ)\n",
    "        else:\n",
    "            continue\n",
    "\n",
    "    return B[1:]"
   ]
  },
  {
   "cell_type": "code",
   "execution_count": 55,
   "id": "6e4455d7",
   "metadata": {},
   "outputs": [
    {
     "data": {
      "text/plain": [
       "[1, 3, 6, 11, 17]"
      ]
     },
     "execution_count": 55,
     "metadata": {},
     "output_type": "execute_result"
    }
   ],
   "source": [
    "A = [1,2,3,4,5,6]\n",
    "cumsum_and_erase(A, erase=10)"
   ]
  },
  {
   "cell_type": "code",
   "execution_count": 51,
   "id": "2a00ad5a",
   "metadata": {},
   "outputs": [],
   "source": [
    "A = [1,2,3]\n",
    "B = [0] * len(A)\n",
    "B = [ B[i-1] + A[i] for i in range(len(A))]"
   ]
  },
  {
   "cell_type": "code",
   "execution_count": 69,
   "id": "b8fbf630",
   "metadata": {},
   "outputs": [],
   "source": [
    "def process(sentences):\n",
    "    \n",
    "    result = []\n",
    "    \n",
    "    for sentense in sentences:\n",
    "        s = [x for x in sentense.split(' ') if x.isalpha()]\n",
    "        result.append(' '.join(s))\n",
    "    return result"
   ]
  },
  {
   "cell_type": "code",
   "execution_count": 68,
   "id": "10451f38",
   "metadata": {},
   "outputs": [
    {
     "data": {
      "text/plain": [
       "['thousand devils', 'My name is', 'Room costs', '']"
      ]
     },
     "execution_count": 68,
     "metadata": {},
     "output_type": "execute_result"
    }
   ],
   "source": [
    "process(['1 thousand devils', 'My name is 9Pasha', 'Room #125 costs $100', '888'])"
   ]
  },
  {
   "cell_type": "code",
   "execution_count": 75,
   "id": "b3f41e53",
   "metadata": {},
   "outputs": [
    {
     "data": {
      "text/plain": [
       "(0, 1, 0, 2, 1, 3, 0, 4)"
      ]
     },
     "execution_count": 75,
     "metadata": {},
     "output_type": "execute_result"
    }
   ],
   "source": [
    "from functools import reduce\n",
    "\n",
    "# reduce(lambda x, y : x[0]*x[1] + y[0]*y[1], zip([0,0,1,0,1],[1,2,3,4,5]))\n",
    "reduce(lambda x, y : x + y, zip([0,0,1,0,1],[1,2,3,4]))"
   ]
  },
  {
   "cell_type": "code",
   "execution_count": 94,
   "id": "b9fab54f",
   "metadata": {},
   "outputs": [],
   "source": [
    "class Neuron:\n",
    "\n",
    "    def __init__(self, w, f = lambda x: x):\n",
    "        self.w = w\n",
    "        self.f = f\n",
    "        self.x = None\n",
    "\n",
    "    def forward(self, x):\n",
    "        self.x = x\n",
    "        return self.f(sum([x * w for x, w  in zip (x, self.w)]))\n",
    "\n",
    "    def backlog(self):\n",
    "        return self.x\n",
    "        #YOUR CODE HERE"
   ]
  },
  {
   "cell_type": "code",
   "execution_count": 95,
   "id": "cc600b33",
   "metadata": {},
   "outputs": [],
   "source": [
    "n = Neuron([1,1,0])"
   ]
  },
  {
   "cell_type": "code",
   "execution_count": 96,
   "id": "afdd177f",
   "metadata": {},
   "outputs": [],
   "source": [
    "n.backlog()"
   ]
  },
  {
   "cell_type": "code",
   "execution_count": null,
   "id": "cf723d6d",
   "metadata": {},
   "outputs": [],
   "source": []
  }
 ],
 "metadata": {
  "kernelspec": {
   "display_name": "Python 3 (ipykernel)",
   "language": "python",
   "name": "python3"
  },
  "language_info": {
   "codemirror_mode": {
    "name": "ipython",
    "version": 3
   },
   "file_extension": ".py",
   "mimetype": "text/x-python",
   "name": "python",
   "nbconvert_exporter": "python",
   "pygments_lexer": "ipython3",
   "version": "3.10.6"
  }
 },
 "nbformat": 4,
 "nbformat_minor": 5
}
