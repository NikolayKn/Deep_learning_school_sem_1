{
 "cells": [
  {
   "cell_type": "code",
   "execution_count": 80,
   "id": "c22ebb71",
   "metadata": {},
   "outputs": [],
   "source": [
    "import numpy as np\n",
    "\n",
    "def no_numpy_mult(first, second):\n",
    "    \"\"\"\n",
    "    param first: list of \"size\" lists, each contains \"size\" floats\n",
    "    param second: list of \"size\" lists, each contains \"size\" floats\n",
    "    \"\"\"\n",
    "\n",
    "    #YOUR CODE: please do not use numpy\n",
    "    shape_first = (len(first), len(first[0]))\n",
    "    shape_second = (len(second), len(second[0]))\n",
    "#     try:\n",
    "#         for string in first:\n",
    "#             if len(string) != shape_first[1]:\n",
    "#                 raise Exception(\"'couldn't multiply\")\n",
    "                \n",
    "#         \n",
    "    \n",
    "#         for string in second:\n",
    "#             if len(string) != shape_second[1]:\n",
    "#                 raise Exception(\"'couldn't multiply\")\n",
    "        \n",
    "#         if shape_first[1] != shape_second[0]:\n",
    "#             raise Exception(\"'couldn't multiply\")\n",
    "            \n",
    "#     except:\n",
    "#         raise Exception(\"'couldn't multiply\")\n",
    "    \n",
    "#     print(shape_first[0], shape_second[1])\n",
    "    result = []\n",
    "    \n",
    "    for i in range( shape_first[0]):\n",
    "        result.append([])\n",
    "        for j in range( shape_second[1]):\n",
    "            result[i].append(0)\n",
    "            for k in range( shape_first[1]):\n",
    "                result[i][j] += (first[i][k] * second[k][j])\n",
    "    return result\n",
    "\n",
    "def numpy_mult(first, second):\n",
    "    \"\"\"\n",
    "    param first: np.array[size, size]\n",
    "    param second: np.array[size, size]\n",
    "    \"\"\"\n",
    "\n",
    "    #YOUR CODE: please use numpy\n",
    "    result = first @ second\n",
    "\n",
    "#     result = #YOUR CODE: create np.array\n",
    "    return result"
   ]
  },
  {
   "cell_type": "code",
   "execution_count": 81,
   "id": "60a6d9e2",
   "metadata": {},
   "outputs": [
    {
     "data": {
      "text/plain": [
       "[[30.0, 36.0, 42.0], [66.0, 81.0, 96.0], [102.0, 126.0, 150.0]]"
      ]
     },
     "execution_count": 81,
     "metadata": {},
     "output_type": "execute_result"
    }
   ],
   "source": [
    "first = [[1.0,2,3], \n",
    "         [4,5.0,6], \n",
    "         [7,8.0,9]]\n",
    "no_numpy_mult(first, first)"
   ]
  },
  {
   "cell_type": "code",
   "execution_count": 82,
   "id": "ee2dbb57",
   "metadata": {},
   "outputs": [
    {
     "data": {
      "text/plain": [
       "array([[ 30.,  36.,  42.],\n",
       "       [ 66.,  81.,  96.],\n",
       "       [102., 126., 150.]])"
      ]
     },
     "execution_count": 82,
     "metadata": {},
     "output_type": "execute_result"
    }
   ],
   "source": [
    "numpy_mult(np.array(first), np.array(first))"
   ]
  },
  {
   "cell_type": "code",
   "execution_count": 95,
   "id": "d9e6d7a1",
   "metadata": {},
   "outputs": [],
   "source": [
    "import numpy as np\n",
    "\n",
    "def no_numpy_scalar(v1, v2):\n",
    "    #param v1, v2: lists of 3 ints\n",
    "    #YOUR CODE: please do not use numpy\n",
    "    result = sum([x*y for x,y in  zip(v1, v2)])\n",
    "    return result\n",
    "\n",
    "def numpy_scalar (v1, v2):\n",
    "    #param v1, v2: np.arrays[3]\n",
    "    #YOUR CODE\n",
    "\n",
    "    result = v1@v2\n",
    "    return result"
   ]
  },
  {
   "cell_type": "code",
   "execution_count": 96,
   "id": "1561243c",
   "metadata": {},
   "outputs": [
    {
     "data": {
      "text/plain": [
       "6"
      ]
     },
     "execution_count": 96,
     "metadata": {},
     "output_type": "execute_result"
    }
   ],
   "source": [
    "no_numpy_scalar([1,2,3],[1,1,1])"
   ]
  },
  {
   "cell_type": "code",
   "execution_count": 97,
   "id": "83c64b4e",
   "metadata": {},
   "outputs": [
    {
     "data": {
      "text/plain": [
       "14"
      ]
     },
     "execution_count": 97,
     "metadata": {},
     "output_type": "execute_result"
    }
   ],
   "source": [
    "numpy_scalar(np.array([1,2,3]), np.array([1,2,3]) )"
   ]
  },
  {
   "cell_type": "code",
   "execution_count": 123,
   "id": "29c067f1",
   "metadata": {},
   "outputs": [],
   "source": [
    "import numpy as np #не стирать!        \n",
    "\n",
    "def diag_2k(a):\n",
    "    #param a: np.array[size, size]\n",
    "    #YOUR CODE\n",
    "    result = a[np.eye(a.shape[0],dtype='bool')]\n",
    "    return result[result%2==0].sum()"
   ]
  },
  {
   "cell_type": "code",
   "execution_count": 124,
   "id": "6755f48b",
   "metadata": {},
   "outputs": [
    {
     "data": {
      "text/plain": [
       "0.0"
      ]
     },
     "execution_count": 124,
     "metadata": {},
     "output_type": "execute_result"
    }
   ],
   "source": [
    "test = np.array([[1.0,2,3], \n",
    "         [4,5.0,6], \n",
    "         [7,8.0,9]])\n",
    "\n",
    "diag_2k(test)\n"
   ]
  },
  {
   "cell_type": "code",
   "execution_count": 126,
   "id": "51700d47",
   "metadata": {},
   "outputs": [],
   "source": [
    "import numpy as np\n",
    "\n",
    "def cumsum(A):\n",
    "    #param A: np.array[m,n]\n",
    "    #YOUR CODE\n",
    "    result = np.cumsum(A,axis=1)\n",
    "    return result"
   ]
  },
  {
   "cell_type": "code",
   "execution_count": 128,
   "id": "3079568c",
   "metadata": {},
   "outputs": [
    {
     "data": {
      "text/plain": [
       "array([[ 1.,  3.,  6.],\n",
       "       [ 4.,  9., 15.],\n",
       "       [ 7., 15., 24.]])"
      ]
     },
     "execution_count": 128,
     "metadata": {},
     "output_type": "execute_result"
    }
   ],
   "source": [
    "np.cumsum(test,axis=1)"
   ]
  },
  {
   "cell_type": "code",
   "execution_count": 149,
   "id": "6ca3006b",
   "metadata": {},
   "outputs": [],
   "source": [
    "import numpy as np\n",
    "\n",
    "def transform(X, a=1):\n",
    "    \"\"\"\n",
    "    param X: np.array[batch_size, n]\n",
    "    \"\"\"\n",
    "    \n",
    "    \n",
    "    #YOUR CODE\n",
    "    modified = np.copy(X)\n",
    "    modified[:,1::2] = a\n",
    "    modified[:,0::2]**=2 \n",
    "    \n",
    "    return np.concatenate((X,modified[:,::-1]),axis=1)"
   ]
  },
  {
   "cell_type": "code",
   "execution_count": 150,
   "id": "c04df324",
   "metadata": {},
   "outputs": [
    {
     "data": {
      "text/plain": [
       "array([[1, 2, 3, 4, 1, 9, 1, 1]])"
      ]
     },
     "execution_count": 150,
     "metadata": {},
     "output_type": "execute_result"
    }
   ],
   "source": [
    "transform(np.array([[1,2,3,4]]))"
   ]
  },
  {
   "cell_type": "code",
   "execution_count": 156,
   "id": "a4b95c31",
   "metadata": {},
   "outputs": [],
   "source": [
    "import numpy as np\n",
    "\n",
    "def encode(a):\n",
    "    #YOUR CODE\n",
    "    count = np.array([])\n",
    "    reduced = np.array([])\n",
    "    prev = None\n",
    "    for num in a:\n",
    "        if num == prev:\n",
    "            count[-1]+=1\n",
    "        else:\n",
    "            count = np.append(count,1)\n",
    "            reduced = np.append(reduced,num)\n",
    "            prev = num\n",
    "\n",
    "    result = (reduced, count)\n",
    "    return result"
   ]
  },
  {
   "cell_type": "code",
   "execution_count": 157,
   "id": "e367b62e",
   "metadata": {},
   "outputs": [
    {
     "data": {
      "text/plain": [
       "(array([1., 2., 3., 6., 4.]), array([1., 3., 1., 2., 1.]))"
      ]
     },
     "execution_count": 157,
     "metadata": {},
     "output_type": "execute_result"
    }
   ],
   "source": [
    "encode(np.array([1,2,2,2,3,6,6,4]))"
   ]
  }
 ],
 "metadata": {
  "kernelspec": {
   "display_name": "Python 3 (ipykernel)",
   "language": "python",
   "name": "python3"
  },
  "language_info": {
   "codemirror_mode": {
    "name": "ipython",
    "version": 3
   },
   "file_extension": ".py",
   "mimetype": "text/x-python",
   "name": "python",
   "nbconvert_exporter": "python",
   "pygments_lexer": "ipython3",
   "version": "3.10.6"
  }
 },
 "nbformat": 4,
 "nbformat_minor": 5
}
